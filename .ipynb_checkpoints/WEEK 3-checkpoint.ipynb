{
 "cells": [
  {
   "cell_type": "markdown",
   "id": "4bf67e8a-adf0-45ec-8fbc-8726765f99b9",
   "metadata": {},
   "source": [
    "## Module 3 - Graded Quiz"
   ]
  },
  {
   "cell_type": "markdown",
   "id": "8bcc6593-8087-46ac-beab-1c74113211e8",
   "metadata": {},
   "source": [
    "'Rtail', 1.\n",
    "Question 1\n",
    "\n",
    "Load the 49 industries Value weighted returns and cap weights, and use the period 2013-2018 both included. For the period, use the starting cap weights of the period. Limit yourself to the following 5 industry sectors: 'Hlth', 'Fin', 'Whlsl', 'Rtail', 'Food'.\n",
    " You will need to compute the correlation matrix as well as the volatilities. (Hint: Remember to annualize the volatilities by multiplying the volatility you get from the monthly data by the sqrt iof 12)\n",
    "Using the same value of delta used in the He-Litterman paper of 2.5 and using the same sigma prior methodology used in the notebook and in the paper, compute the implied returns vector.\n",
    "Which industry sector has the highest capweight?\n",
    "\n",
    "Enter your answer as text, exactly as they are named in the Data file (i.e. 'Hlth', 'Fin', 'Whlsl', 'Rtail', or 'Food')\n"
   ]
  },
  {
   "cell_type": "code",
   "execution_count": 34,
   "id": "53840d84-234f-4487-bc42-d363b346935a",
   "metadata": {},
   "outputs": [
    {
     "name": "stdout",
     "output_type": "stream",
     "text": [
      "The autoreload extension is already loaded. To reload it, use:\n",
      "  %reload_ext autoreload\n"
     ]
    }
   ],
   "source": [
    "import numpy as np\n",
    "import pandas as pd\n",
    "\n",
    "import edhec_risk_kit_206 as erk\n",
    "\n",
    "%load_ext autoreload\n",
    "%autoreload 2\n",
    "inds = ['Hlth','Fin','Whlsl','Rtail', 'Food']\n",
    "#inds=['Beer', 'Hlth', 'Fin','Rtail','Whlsl']\n",
    "ind_rets = erk.get_ind_returns(weighting=\"vw\", n_inds=49)[\"2013\":\"2018\"]\n",
    "ind_mcap = erk.get_ind_market_caps(49, weights=True)[\"2013\":\"2018\"]\n",
    "\n",
    "\n",
    "mcap = ind_mcap[inds]\n",
    "rets = ind_rets[inds]\n",
    "rho = rets.corr()\n",
    "vols = rets.std()*np.sqrt(12)\n",
    "sigma_prior = vols.dot(vols.T) * rho\n",
    "ind_w = mcap.values[0]/mcap.values[0].sum()"
   ]
  },
  {
   "cell_type": "code",
   "execution_count": 35,
   "id": "3442a6a5-b6f8-4cdb-bb62-1dfc67d60c6e",
   "metadata": {},
   "outputs": [
    {
     "data": {
      "text/plain": [
       "array([0.0416629 , 0.17536186, 0.09741073, 0.54638822, 0.13917629])"
      ]
     },
     "execution_count": 35,
     "metadata": {},
     "output_type": "execute_result"
    }
   ],
   "source": [
    "ind_w"
   ]
  },
  {
   "cell_type": "code",
   "execution_count": 47,
   "id": "292c2aaa-2d7b-4503-a80d-014a05aab4b4",
   "metadata": {},
   "outputs": [
    {
     "data": {
      "text/html": [
       "<div>\n",
       "<style scoped>\n",
       "    .dataframe tbody tr th:only-of-type {\n",
       "        vertical-align: middle;\n",
       "    }\n",
       "\n",
       "    .dataframe tbody tr th {\n",
       "        vertical-align: top;\n",
       "    }\n",
       "\n",
       "    .dataframe thead th {\n",
       "        text-align: right;\n",
       "    }\n",
       "</style>\n",
       "<table border=\"1\" class=\"dataframe\">\n",
       "  <thead>\n",
       "    <tr style=\"text-align: right;\">\n",
       "      <th></th>\n",
       "      <th>CapWeight</th>\n",
       "    </tr>\n",
       "  </thead>\n",
       "  <tbody>\n",
       "    <tr>\n",
       "      <th>Hlth</th>\n",
       "      <td>0.041663</td>\n",
       "    </tr>\n",
       "    <tr>\n",
       "      <th>Whlsl</th>\n",
       "      <td>0.097411</td>\n",
       "    </tr>\n",
       "    <tr>\n",
       "      <th>Food</th>\n",
       "      <td>0.139176</td>\n",
       "    </tr>\n",
       "    <tr>\n",
       "      <th>Fin</th>\n",
       "      <td>0.175362</td>\n",
       "    </tr>\n",
       "    <tr>\n",
       "      <th>Rtail</th>\n",
       "      <td>0.546388</td>\n",
       "    </tr>\n",
       "  </tbody>\n",
       "</table>\n",
       "</div>"
      ],
      "text/plain": [
       "       CapWeight\n",
       "Hlth    0.041663\n",
       "Whlsl   0.097411\n",
       "Food    0.139176\n",
       "Fin     0.175362\n",
       "Rtail   0.546388"
      ]
     },
     "execution_count": 47,
     "metadata": {},
     "output_type": "execute_result"
    }
   ],
   "source": [
    "w_eq = pd.DataFrame(ind_w, index=inds, columns=[\"CapWeight\"])\n",
    "w_eq.sort_values('CapWeight')"
   ]
  },
  {
   "cell_type": "code",
   "execution_count": 36,
   "id": "7292eb0a-e512-4fec-9d74-012402dc64c4",
   "metadata": {},
   "outputs": [],
   "source": [
    "def implied_returns(delta, sigma, w):\n",
    "    \"\"\"\n",
    "Obtain the implied expected returns by reverse engineering the weights\n",
    "Inputs:\n",
    "delta: Risk Aversion Coefficient (scalar)\n",
    "sigma: Variance-Covariance Matrix (N x N) as DataFrame\n",
    "    w: Portfolio weights (N x 1) as Series\n",
    "Returns an N x 1 vector of Returns as Series\n",
    "    \"\"\"\n",
    "    ir = delta * sigma.dot(w).squeeze() # to get a series from a 1-column dataframe\n",
    "    ir.name = 'Implied Returns'\n",
    "    return ir\n",
    "\n"
   ]
  },
  {
   "cell_type": "code",
   "execution_count": 50,
   "id": "e07b29cc-4812-450b-8f9f-0ff367e22a81",
   "metadata": {},
   "outputs": [
    {
     "data": {
      "text/plain": [
       "Hlth     15.290998\n",
       "Fin      17.558006\n",
       "Whlsl    20.183618\n",
       "Rtail    22.482690\n",
       "Food     15.811480\n",
       "Name: Implied Returns, dtype: float64"
      ]
     },
     "execution_count": 50,
     "metadata": {},
     "output_type": "execute_result"
    }
   ],
   "source": [
    "pi = implied_returns(delta=2.5, sigma=sigma_prior, w=ind_w)\n",
    "pi*100"
   ]
  },
  {
   "cell_type": "markdown",
   "id": "586b61d6-b792-43ab-b3fb-b30b3c7d6a90",
   "metadata": {},
   "source": [
    "2.\n",
    "Question 2\n",
    "\n",
    "Use the same data as the previous question, which industry sector has the highest implied return? \n",
    "\n",
    "Enter your answer as text, exactly as they are named in the Data file (i.e. 'Hlth', 'Fin', 'Whlsl', 'Rtail', or 'Food')"
   ]
  },
  {
   "cell_type": "code",
   "execution_count": null,
   "id": "5332ae68-2504-4c6f-bd9e-9be51767b538",
   "metadata": {},
   "outputs": [],
   "source": [
    "Rtail"
   ]
  },
  {
   "cell_type": "markdown",
   "id": "9dcce99a-429d-454d-b750-0da78ddbf8ff",
   "metadata": {},
   "source": [
    "3.\n",
    "Question 3\n",
    "\n",
    "Use the same data and assumptions as the previous question.\n",
    "Which industry sector has the lowest implied return?    \n",
    "\n",
    "Enter your answer as text, exactly as they are named in the Data file (i.e. 'Hlth', 'Fin', 'Whlsl', 'Rtail', or 'Food')\n",
    "1 point\n"
   ]
  },
  {
   "cell_type": "code",
   "execution_count": null,
   "id": "a6a03701-39dc-4b54-9f3e-ab5bf3c790af",
   "metadata": {},
   "outputs": [],
   "source": [
    "Hlth"
   ]
  },
  {
   "cell_type": "markdown",
   "id": "9c100963-5f44-4314-8bce-8ee0b472556a",
   "metadata": {},
   "source": [
    "4.\n",
    "Question 4\n",
    "\n",
    "Impose the subjective relative view that Hlth will outperform Rtail and Whlsl by 3%  (Hint: Use the same logic as View 1 in the He-Litterman paper)\n",
    "What is the entry you will use for the Pick Matrix P for Whlsl. (Hint: Remember to use the correct sign)\n",
    "\n",
    "Enter the number as a positive or negative number correct to at least two decimal places (e.g. -0.23 or +0.23)"
   ]
  },
  {
   "cell_type": "code",
   "execution_count": 74,
   "id": "7fbcf24c-4dfd-469c-bd59-c9e577870167",
   "metadata": {},
   "outputs": [
    {
     "data": {
      "text/html": [
       "<div>\n",
       "<style scoped>\n",
       "    .dataframe tbody tr th:only-of-type {\n",
       "        vertical-align: middle;\n",
       "    }\n",
       "\n",
       "    .dataframe tbody tr th {\n",
       "        vertical-align: top;\n",
       "    }\n",
       "\n",
       "    .dataframe thead th {\n",
       "        text-align: right;\n",
       "    }\n",
       "</style>\n",
       "<table border=\"1\" class=\"dataframe\">\n",
       "  <thead>\n",
       "    <tr style=\"text-align: right;\">\n",
       "      <th></th>\n",
       "      <th>Hlth</th>\n",
       "      <th>Fin</th>\n",
       "      <th>Whlsl</th>\n",
       "      <th>Rtail</th>\n",
       "      <th>Food</th>\n",
       "    </tr>\n",
       "  </thead>\n",
       "  <tbody>\n",
       "    <tr>\n",
       "      <th>0</th>\n",
       "      <td>1.0</td>\n",
       "      <td>0.0</td>\n",
       "      <td>-0.151</td>\n",
       "      <td>-0.849</td>\n",
       "      <td>0.0</td>\n",
       "    </tr>\n",
       "  </tbody>\n",
       "</table>\n",
       "</div>"
      ],
      "text/plain": [
       "   Hlth  Fin  Whlsl  Rtail  Food\n",
       "0   1.0  0.0 -0.151 -0.849   0.0"
      ]
     },
     "execution_count": 74,
     "metadata": {},
     "output_type": "execute_result"
    }
   ],
   "source": [
    "# Hlth will outperform Rtail and Whlsl by 3%\n",
    "q = pd.Series([.05]) # just one view\n",
    "# start with a single view, all zeros and overwrite the specific view\n",
    "p = pd.DataFrame([0.]*len(inds), index=inds).T\n",
    "# find the relative market caps of Rtail and Whlsl to split the\n",
    "# relative outperformance of Hlth ...\n",
    "w_rtail =  w_eq.loc[\"Rtail\"]/(w_eq.loc[\"Rtail\"]+w_eq.loc[\"Whlsl\"])\n",
    "w_whlsl =  w_eq.loc[\"Whlsl\"]/(w_eq.loc[\"Rtail\"]+w_eq.loc[\"Whlsl\"])\n",
    "p.iloc[0]['Hlth'] = 1.\n",
    "p.iloc[0]['Rtail'] = -w_rtail\n",
    "p.iloc[0]['Whlsl'] = -w_whlsl\n",
    "(p).round(3)\n"
   ]
  },
  {
   "cell_type": "markdown",
   "id": "31758fc3-edf9-480a-891d-8a34a43c8340",
   "metadata": {},
   "source": [
    "5.\n",
    "Question 5\n",
    "\n",
    "Impose the subjective relative view that Hlth will outperform Rtail and Whlsl by 3%  (Hint: Use the same logic as View 1 in the He-Litterman paper)\n",
    "What is the entry you will use for the Pick Matrix P for Rtail. (Hint: Remember to use the correct sign)\n",
    "\n",
    "Enter the number as a positive or negative number correct to at least two decimal places (e.g. -0.234 or +0.234)"
   ]
  },
  {
   "cell_type": "code",
   "execution_count": null,
   "id": "5c65cfb0-de44-494f-9812-254bd7178526",
   "metadata": {},
   "outputs": [],
   "source": []
  },
  {
   "cell_type": "markdown",
   "id": "c737d48d-4809-42dd-b457-5b88f81f5ba2",
   "metadata": {},
   "source": [
    "6.\n",
    "Question 6\n",
    "\n",
    "Impose the subjective relative view that Hlth will outperform Rtail and Whlsl by 3%  (Hint: Use the same logic as View 1 in the He-Litterman paper)\n",
    "Once you impose this view (use delta = 2.5 and tau = 0.05 as in the paper), which sector has the lowest implied return?\n",
    "\n",
    "Enter your answer as text, exactly as they are named in the Data file (i.e. 'Hlth', 'Fin', 'Whlsl', 'Rtail', or 'Food')"
   ]
  },
  {
   "cell_type": "code",
   "execution_count": 75,
   "id": "940ecb0e-0699-40fe-bc44-8a0d59ea2d0c",
   "metadata": {},
   "outputs": [],
   "source": [
    "# Assumes that Omega is proportional to the variance of the prior\n",
    "def proportional_prior(sigma, tau, p):\n",
    "    \"\"\"\n",
    "    Returns the He-Litterman simplified Omega\n",
    "    Inputs:\n",
    "    sigma: N x N Covariance Matrix as DataFrame\n",
    "    tau: a scalar\n",
    "    p: a K x N DataFrame linking Q and Assets\n",
    "    returns a P x P DataFrame, a Matrix representing Prior Uncertainties\n",
    "    \"\"\"\n",
    "    helit_omega = p.dot(tau * sigma).dot(p.T)\n",
    "    # Make a diag matrix from the diag elements of Omega\n",
    "    return pd.DataFrame(np.diag(np.diag(helit_omega.values)),index=p.index, columns=p.index)\n"
   ]
  },
  {
   "cell_type": "code",
   "execution_count": 76,
   "id": "ea00c904-b6aa-4484-a5b7-a7c9845ceed5",
   "metadata": {},
   "outputs": [],
   "source": [
    "from numpy.linalg import inv\n",
    "\n",
    "def bl(w_prior, sigma_prior, p, q,\n",
    "                omega=None,\n",
    "                delta=2.5, tau=.02):\n",
    "    \"\"\"\n",
    "# Computes the posterior expected returns based on \n",
    "# the original black litterman reference model\n",
    "#\n",
    "# W.prior must be an N x 1 vector of weights, a Series\n",
    "# Sigma.prior is an N x N covariance matrix, a DataFrame\n",
    "# P must be a K x N matrix linking Q and the Assets, a DataFrame\n",
    "# Q must be an K x 1 vector of views, a Series\n",
    "# Omega must be a K x K matrix a DataFrame, or None\n",
    "# if Omega is None, we assume it is\n",
    "#    proportional to variance of the prior\n",
    "# delta and tau are scalars\n",
    "    \"\"\"\n",
    "    if omega is None:\n",
    "        omega = proportional_prior(sigma_prior, tau, p)\n",
    "    # Force w.prior and Q to be column vectors\n",
    "    # How many assets do we have?\n",
    "    N = w_prior.shape[0]\n",
    "    # And how many views?\n",
    "    K = q.shape[0]\n",
    "    # First, reverse-engineer the weights to get pi\n",
    "    pi = implied_returns(delta, sigma_prior,  w_prior)\n",
    "    # Adjust (scale) Sigma by the uncertainty scaling factor\n",
    "    sigma_prior_scaled = tau * sigma_prior  \n",
    "    # posterior estimate of the mean, use the \"Master Formula\"\n",
    "    # we use the versions that do not require\n",
    "    # Omega to be inverted (see previous section)\n",
    "    # this is easier to read if we use '@' for matrixmult instead of .dot()\n",
    "    #     mu_bl = pi + sigma_prior_scaled @ p.T @ inv(p @ sigma_prior_scaled @ p.T + omega) @ (q - p @ pi)\n",
    "    mu_bl = pi + sigma_prior_scaled.dot(p.T).dot(inv(p.dot(sigma_prior_scaled).dot(p.T) + omega).dot(q - p.dot(pi).values))\n",
    "    # posterior estimate of uncertainty of mu.bl\n",
    "#     sigma_bl = sigma_prior + sigma_prior_scaled - sigma_prior_scaled @ p.T @ inv(p @ sigma_prior_scaled @ p.T + omega) @ p @ sigma_prior_scaled\n",
    "    sigma_bl = sigma_prior + sigma_prior_scaled - sigma_prior_scaled.dot(p.T).dot(inv(p.dot(sigma_prior_scaled).dot(p.T) + omega)).dot(p).dot(sigma_prior_scaled)\n",
    "    return (mu_bl, sigma_bl)\n"
   ]
  },
  {
   "cell_type": "code",
   "execution_count": 78,
   "id": "b62028f9-e7af-43c7-b28b-d73cf69b85e4",
   "metadata": {},
   "outputs": [
    {
     "data": {
      "text/plain": [
       "Food     14.3\n",
       "Fin      16.8\n",
       "Hlth     18.5\n",
       "Whlsl    19.2\n",
       "Rtail    19.5\n",
       "dtype: float64"
      ]
     },
     "execution_count": 78,
     "metadata": {},
     "output_type": "execute_result"
    }
   ],
   "source": [
    "delta = 2.5\n",
    "tau = 0.05 # from Footnote 8\n",
    "# Find the Black Litterman Expected Returns\n",
    "bl_mu, bl_sigma = bl(w_eq, sigma_prior, p, q, tau = tau)\n",
    "(bl_mu*100).round(1).sort_values()"
   ]
  },
  {
   "cell_type": "markdown",
   "id": "c39fc5d2-7524-449a-b94b-c2679dbf3cbb",
   "metadata": {},
   "source": [
    "7.\n",
    "Question 7\n",
    "\n",
    "Impose the subjective relative view that Hlth will outperform Rtail and Whlsl by 3%  (Hint: Use the same logic as View 1 in the He-Litterman paper)\n",
    "Which sector now has the highest weight in the MSR portfolio using the Black-Litterman model?\n",
    "\n",
    "Enter your answer as text, exactly as they are named in the Data file (i.e. 'Hlth', 'Fin', 'Whlsl', 'Rtail', or 'Food')\n"
   ]
  },
  {
   "cell_type": "code",
   "execution_count": 79,
   "id": "40a00bf2-f292-4460-b8c6-74e730546b5e",
   "metadata": {},
   "outputs": [],
   "source": [
    "# for convenience and readability, define the inverse of a dataframe\n",
    "def inverse(d):\n",
    "    \"\"\"\n",
    "    Invert the dataframe by inverting the underlying matrix\n",
    "    \"\"\"\n",
    "    return pd.DataFrame(inv(d.values), index=d.columns, columns=d.index)\n",
    "\n",
    "def w_msr(sigma, mu, scale=True):\n",
    "    \"\"\"\n",
    "    Optimal (Tangent/Max Sharpe Ratio) Portfolio weights\n",
    "    by using the Markowitz Optimization Procedure\n",
    "    Mu is the vector of Excess expected Returns\n",
    "    Sigma must be an N x N matrix as a DataFrame and Mu a column vector as a Series\n",
    "    This implements page 188 Equation 5.2.28 of\n",
    "    \"The econometrics of financial markets\" Campbell, Lo and Mackinlay.\n",
    "    \"\"\"\n",
    "    w = inverse(sigma).dot(mu)\n",
    "    if scale:\n",
    "        w = w/sum(w) # fix: this assumes all w is +ve\n",
    "    return w"
   ]
  },
  {
   "cell_type": "code",
   "execution_count": 80,
   "id": "bc548866-1ac2-4c09-8d79-f2802f4db926",
   "metadata": {},
   "outputs": [
    {
     "data": {
      "text/plain": [
       "Whlsl    0.054342\n",
       "Food     0.139176\n",
       "Fin      0.175362\n",
       "Rtail    0.304808\n",
       "Hlth     0.326312\n",
       "dtype: float64"
      ]
     },
     "execution_count": 80,
     "metadata": {},
     "output_type": "execute_result"
    }
   ],
   "source": [
    "# Use the Black Litterman expected returns to get the Optimal Markowitz weights\n",
    "w_msr(bl_sigma, bl_mu).sort_values()"
   ]
  },
  {
   "cell_type": "markdown",
   "id": "dda5cf0a-b11b-4109-9699-914aed78ca7c",
   "metadata": {},
   "source": [
    "8.\n",
    "Question 8\n",
    "\n",
    "Impose the subjective relative view that Hlth will outperform Rtail and Whlsl by 3%  (Hint: Use the same logic as View 1 in the He-Litterman paper)\n",
    "Which sector now has the lowest weight in the MSR portfolio using the Black-Litterman model?\n",
    "\n",
    "Enter your answer as text, exactly as they are named in the Data file (i.e. 'Hlth', 'Fin', 'Whlsl', 'Rtail', or 'Food')"
   ]
  },
  {
   "cell_type": "markdown",
   "id": "94b838a1-4da0-4d8b-8e02-d00cd477cc22",
   "metadata": {},
   "source": [
    "9.\n",
    "Question 9\n",
    "\n",
    "Now, let’s assume you change the relative view. You still think that it Hlth will outperform Rtail and Whlsl but you think that the outperformance will be 5% not the 3% you originally anticipated.\n",
    "Which of the arrays will you need to update?    \n",
    "1 point\n",
    "\n",
    "P and not Q \n",
    "\n",
    "Neither P nor Q but a different parameter    \n",
    "\n",
    "Q and not P  \n",
    "\n",
    "Both P and Q  "
   ]
  },
  {
   "cell_type": "markdown",
   "id": "3d8957fe-7399-4b08-83bc-3738bb28743a",
   "metadata": {
    "tags": []
   },
   "source": [
    "10.\n",
    "Question 10\n",
    "\n",
    "Now, let’s assume you change the relative view. You still think that it Hlth will outperform Rtail and Whlsl but you think that the outperformance will be 5% not the 3% you originally anticipated.\n",
    "Under this new view which sector has the highest expected return?\n",
    "\n",
    "Enter your answer as text, exactly as they are named in the Data file (i.e. 'Hlth', 'Fin', 'Whlsl', 'Rtail', or 'Food')"
   ]
  },
  {
   "cell_type": "markdown",
   "id": "e5c48225-f3bd-4a72-a26f-7e48d36ab4d1",
   "metadata": {},
   "source": [
    "11.\n",
    "Question 11\n",
    "\n",
    "Now, let’s assume you change the relative view. You still think that it Hlth will outperform Rtail and Whlsl but you think that the outperformance will be 5% not the 3% you originally anticipated.\n",
    "Under this new view which sector does the Black-Litterman model assign the highest weight?\n",
    "\n",
    "Enter your answer as text, exactly as they are named in the Data file (i.e. 'Hlth', 'Fin', 'Whlsl', 'Rtail', or 'Food')"
   ]
  },
  {
   "cell_type": "code",
   "execution_count": null,
   "id": "e070aa20-2c0a-4ab1-b412-d9c051f476ae",
   "metadata": {},
   "outputs": [],
   "source": []
  }
 ],
 "metadata": {
  "kernelspec": {
   "display_name": "Python",
   "language": "python",
   "name": "conda-env-python-py"
  },
  "language_info": {
   "codemirror_mode": {
    "name": "ipython",
    "version": 3
   },
   "file_extension": ".py",
   "mimetype": "text/x-python",
   "name": "python",
   "nbconvert_exporter": "python",
   "pygments_lexer": "ipython3",
   "version": "3.7.12"
  }
 },
 "nbformat": 4,
 "nbformat_minor": 5
}
