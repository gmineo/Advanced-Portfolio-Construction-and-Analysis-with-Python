{
 "cells": [
  {
   "cell_type": "code",
   "execution_count": 5,
   "id": "1ab8723f-4405-470e-8085-fe9785d68bcc",
   "metadata": {},
   "outputs": [
    {
     "name": "stdout",
     "output_type": "stream",
     "text": [
      "The autoreload extension is already loaded. To reload it, use:\n",
      "  %reload_ext autoreload\n"
     ]
    }
   ],
   "source": [
    "\n",
    "\n",
    "import pandas as pd\n",
    "import numpy as np\n",
    "import edhec_risk_kit_206 as erk\n",
    "import statsmodels.api as sm\n",
    "\n",
    "%load_ext autoreload\n",
    "%autoreload 2\n",
    "%matplotlib inline"
   ]
  },
  {
   "cell_type": "code",
   "execution_count": 6,
   "id": "b8667bdb-03bf-446a-9c68-ae9c35a1940f",
   "metadata": {},
   "outputs": [],
   "source": [
    "ind49_rets = erk.get_ind_returns(weighting=\"vw\", n_inds=49)\n",
    "fff = erk.get_fff_returns()\n"
   ]
  },
  {
   "cell_type": "code",
   "execution_count": 10,
   "id": "a7f0e387-deed-4f3a-aca9-7e347e7f77c2",
   "metadata": {},
   "outputs": [
    {
     "data": {
      "text/plain": [
       "0.5295417263363027"
      ]
     },
     "execution_count": 10,
     "metadata": {},
     "output_type": "execute_result"
    }
   ],
   "source": [
    "\n",
    "\n",
    "ind49f_excess = ind49_rets[\"1991\":\"2018\"] - fff.loc[\"1991\":\"2018\", ['RF']].values\n",
    "mktf_excess = fff.loc[\"1991\":\"2018\",['Mkt-RF']]\n",
    "expf_var = mktf_excess.copy()\n",
    "expf_var[\"Constant\"] = 1\n",
    "lm = sm.OLS(ind49f_excess[\"Beer\"], expf_var).fit()\n",
    "lm.summary()\n",
    "lm.params[\"Mkt-RF\"]\n",
    "\n"
   ]
  },
  {
   "cell_type": "code",
   "execution_count": 11,
   "id": "21024072-7ae0-4c4a-99ae-e2091308d173",
   "metadata": {},
   "outputs": [
    {
     "data": {
      "text/plain": [
       "1.5546095998085292"
      ]
     },
     "execution_count": 11,
     "metadata": {},
     "output_type": "execute_result"
    }
   ],
   "source": [
    "ind49f_excess = ind49_rets[\"1991\":\"2018\"] - fff.loc[\"1991\":\"2018\", ['RF']].values\n",
    "mktf_excess = fff.loc[\"1991\":\"2018\",['Mkt-RF']]\n",
    "expf_var = mktf_excess.copy()\n",
    "expf_var[\"Constant\"] = 1\n",
    "lm = sm.OLS(ind49f_excess[\"Steel\"], expf_var).fit()\n",
    "lm.summary()\n",
    "lm.params[\"Mkt-RF\"]"
   ]
  },
  {
   "cell_type": "code",
   "execution_count": 12,
   "id": "5c28f0f5-b374-4746-a1ce-ca066ced3ced",
   "metadata": {},
   "outputs": [
    {
     "data": {
      "text/plain": [
       "0.5859603890565971"
      ]
     },
     "execution_count": 12,
     "metadata": {},
     "output_type": "execute_result"
    }
   ],
   "source": [
    "ind49f_excess = ind49_rets[\"2013\":\"2018\"] - fff.loc[\"2013\":\"2018\", ['RF']].values\n",
    "mktf_excess = fff.loc[\"2013\":\"2018\",['Mkt-RF']]\n",
    "expf_var = mktf_excess.copy()\n",
    "expf_var[\"Constant\"] = 1\n",
    "lm = sm.OLS(ind49f_excess[\"Beer\"], expf_var).fit()\n",
    "lm.summary()\n",
    "lm.params[\"Mkt-RF\"]"
   ]
  },
  {
   "cell_type": "code",
   "execution_count": 13,
   "id": "8ae4bc8b-b42e-4cf7-9e7d-830b40dc36d0",
   "metadata": {},
   "outputs": [
    {
     "data": {
      "text/plain": [
       "1.4169446523353812"
      ]
     },
     "execution_count": 13,
     "metadata": {},
     "output_type": "execute_result"
    }
   ],
   "source": [
    "ind49f_excess = ind49_rets[\"2013\":\"2018\"] - fff.loc[\"2013\":\"2018\", ['RF']].values\n",
    "mktf_excess = fff.loc[\"2013\":\"2018\",['Mkt-RF']]\n",
    "expf_var = mktf_excess.copy()\n",
    "expf_var[\"Constant\"] = 1\n",
    "lm = sm.OLS(ind49f_excess[\"Steel\"], expf_var).fit()\n",
    "lm.summary()\n",
    "lm.params[\"Mkt-RF\"]"
   ]
  },
  {
   "cell_type": "code",
   "execution_count": 14,
   "id": "2b13b15b-2a60-429d-b4eb-21b1313ae740",
   "metadata": {},
   "outputs": [],
   "source": [
    "\n",
    "\n",
    "ind49f_excess = ind49_rets[\"1991\":\"1993\"] - fff.loc[\"1991\":\"1993\", ['RF']].values\n",
    "mktf_excess = fff.loc[\"1991\":\"1993\",['Mkt-RF']]\n",
    "\n",
    "xdict = {}\n",
    "for industry in ind49f_excess.columns:\n",
    "    expf_var = mktf_excess.copy()\n",
    "    expf_var[\"Constant\"] = 1\n",
    "    lm = sm.OLS(ind49f_excess[industry], expf_var).fit()\n",
    "    xdict[industry] = lm.params[\"Mkt-RF\"]\n",
    "\n"
   ]
  },
  {
   "cell_type": "code",
   "execution_count": 15,
   "id": "577f1959-c29e-4bd6-8daf-d2b4e9b79dc1",
   "metadata": {},
   "outputs": [
    {
     "data": {
      "text/plain": [
       "'Hlth'"
      ]
     },
     "execution_count": 15,
     "metadata": {},
     "output_type": "execute_result"
    }
   ],
   "source": [
    "max(xdict, key=xdict.get)"
   ]
  },
  {
   "cell_type": "code",
   "execution_count": 17,
   "id": "d9de514b-d3ba-4447-bdc9-9b9e47697747",
   "metadata": {},
   "outputs": [
    {
     "data": {
      "text/plain": [
       "'Gold'"
      ]
     },
     "execution_count": 17,
     "metadata": {},
     "output_type": "execute_result"
    }
   ],
   "source": [
    "\n",
    "\n",
    "min(xdict, key=xdict.get)\n",
    "\n"
   ]
  },
  {
   "cell_type": "code",
   "execution_count": null,
   "id": "37f1425d-ae68-48d4-ac3d-e5c7a140be37",
   "metadata": {},
   "outputs": [],
   "source": []
  }
 ],
 "metadata": {
  "kernelspec": {
   "display_name": "Python",
   "language": "python",
   "name": "conda-env-python-py"
  },
  "language_info": {
   "codemirror_mode": {
    "name": "ipython",
    "version": 3
   },
   "file_extension": ".py",
   "mimetype": "text/x-python",
   "name": "python",
   "nbconvert_exporter": "python",
   "pygments_lexer": "ipython3",
   "version": "3.7.10"
  }
 },
 "nbformat": 4,
 "nbformat_minor": 5
}
