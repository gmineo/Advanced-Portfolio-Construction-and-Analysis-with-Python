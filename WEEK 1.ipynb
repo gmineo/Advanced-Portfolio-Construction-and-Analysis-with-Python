{
 "cells": [
  {
   "cell_type": "code",
   "execution_count": 5,
   "id": "1ab8723f-4405-470e-8085-fe9785d68bcc",
   "metadata": {},
   "outputs": [
    {
     "name": "stdout",
     "output_type": "stream",
     "text": [
      "The autoreload extension is already loaded. To reload it, use:\n",
      "  %reload_ext autoreload\n"
     ]
    }
   ],
   "source": [
    "\n",
    "\n",
    "import pandas as pd\n",
    "import numpy as np\n",
    "import edhec_risk_kit_206 as erk\n",
    "import statsmodels.api as sm\n",
    "\n",
    "%load_ext autoreload\n",
    "%autoreload 2\n",
    "%matplotlib inline"
   ]
  },
  {
   "cell_type": "code",
   "execution_count": 6,
   "id": "b8667bdb-03bf-446a-9c68-ae9c35a1940f",
   "metadata": {},
   "outputs": [],
   "source": [
    "ind49_rets = erk.get_ind_returns(weighting=\"vw\", n_inds=49)\n",
    "fff = erk.get_fff_returns()\n"
   ]
  },
  {
   "cell_type": "code",
   "execution_count": 10,
   "id": "a7f0e387-deed-4f3a-aca9-7e347e7f77c2",
   "metadata": {},
   "outputs": [
    {
     "data": {
      "text/plain": [
       "0.5295417263363027"
      ]
     },
     "execution_count": 10,
     "metadata": {},
     "output_type": "execute_result"
    }
   ],
   "source": [
    "\n",
    "\n",
    "ind49f_excess = ind49_rets[\"1991\":\"2018\"] - fff.loc[\"1991\":\"2018\", ['RF']].values\n",
    "mktf_excess = fff.loc[\"1991\":\"2018\",['Mkt-RF']]\n",
    "expf_var = mktf_excess.copy()\n",
    "expf_var[\"Constant\"] = 1\n",
    "lm = sm.OLS(ind49f_excess[\"Beer\"], expf_var).fit()\n",
    "lm.summary()\n",
    "lm.params[\"Mkt-RF\"]\n",
    "\n"
   ]
  },
  {
   "cell_type": "code",
   "execution_count": 11,
   "id": "21024072-7ae0-4c4a-99ae-e2091308d173",
   "metadata": {},
   "outputs": [
    {
     "data": {
      "text/plain": [
       "1.5546095998085292"
      ]
     },
     "execution_count": 11,
     "metadata": {},
     "output_type": "execute_result"
    }
   ],
   "source": [
    "ind49f_excess = ind49_rets[\"1991\":\"2018\"] - fff.loc[\"1991\":\"2018\", ['RF']].values\n",
    "mktf_excess = fff.loc[\"1991\":\"2018\",['Mkt-RF']]\n",
    "expf_var = mktf_excess.copy()\n",
    "expf_var[\"Constant\"] = 1\n",
    "lm = sm.OLS(ind49f_excess[\"Steel\"], expf_var).fit()\n",
    "lm.summary()\n",
    "lm.params[\"Mkt-RF\"]"
   ]
  },
  {
   "cell_type": "code",
   "execution_count": 12,
   "id": "5c28f0f5-b374-4746-a1ce-ca066ced3ced",
   "metadata": {},
   "outputs": [
    {
     "data": {
      "text/plain": [
       "0.5859603890565971"
      ]
     },
     "execution_count": 12,
     "metadata": {},
     "output_type": "execute_result"
    }
   ],
   "source": [
    "ind49f_excess = ind49_rets[\"2013\":\"2018\"] - fff.loc[\"2013\":\"2018\", ['RF']].values\n",
    "mktf_excess = fff.loc[\"2013\":\"2018\",['Mkt-RF']]\n",
    "expf_var = mktf_excess.copy()\n",
    "expf_var[\"Constant\"] = 1\n",
    "lm = sm.OLS(ind49f_excess[\"Beer\"], expf_var).fit()\n",
    "lm.summary()\n",
    "lm.params[\"Mkt-RF\"]"
   ]
  },
  {
   "cell_type": "code",
   "execution_count": 13,
   "id": "8ae4bc8b-b42e-4cf7-9e7d-830b40dc36d0",
   "metadata": {},
   "outputs": [
    {
     "data": {
      "text/plain": [
       "1.4169446523353812"
      ]
     },
     "execution_count": 13,
     "metadata": {},
     "output_type": "execute_result"
    }
   ],
   "source": [
    "ind49f_excess = ind49_rets[\"2013\":\"2018\"] - fff.loc[\"2013\":\"2018\", ['RF']].values\n",
    "mktf_excess = fff.loc[\"2013\":\"2018\",['Mkt-RF']]\n",
    "expf_var = mktf_excess.copy()\n",
    "expf_var[\"Constant\"] = 1\n",
    "lm = sm.OLS(ind49f_excess[\"Steel\"], expf_var).fit()\n",
    "lm.summary()\n",
    "lm.params[\"Mkt-RF\"]"
   ]
  },
  {
   "cell_type": "code",
   "execution_count": 14,
   "id": "2b13b15b-2a60-429d-b4eb-21b1313ae740",
   "metadata": {},
   "outputs": [],
   "source": [
    "\n",
    "\n",
    "ind49f_excess = ind49_rets[\"1991\":\"1993\"] - fff.loc[\"1991\":\"1993\", ['RF']].values\n",
    "mktf_excess = fff.loc[\"1991\":\"1993\",['Mkt-RF']]\n",
    "\n",
    "xdict = {}\n",
    "for industry in ind49f_excess.columns:\n",
    "    expf_var = mktf_excess.copy()\n",
    "    expf_var[\"Constant\"] = 1\n",
    "    lm = sm.OLS(ind49f_excess[industry], expf_var).fit()\n",
    "    xdict[industry] = lm.params[\"Mkt-RF\"]\n",
    "\n"
   ]
  },
  {
   "cell_type": "code",
   "execution_count": 15,
   "id": "577f1959-c29e-4bd6-8daf-d2b4e9b79dc1",
   "metadata": {},
   "outputs": [
    {
     "data": {
      "text/plain": [
       "'Hlth'"
      ]
     },
     "execution_count": 15,
     "metadata": {},
     "output_type": "execute_result"
    }
   ],
   "source": [
    "max(xdict, key=xdict.get)"
   ]
  },
  {
   "cell_type": "code",
   "execution_count": 17,
   "id": "d9de514b-d3ba-4447-bdc9-9b9e47697747",
   "metadata": {},
   "outputs": [
    {
     "data": {
      "text/plain": [
       "'Gold'"
      ]
     },
     "execution_count": 17,
     "metadata": {},
     "output_type": "execute_result"
    }
   ],
   "source": [
    "\n",
    "\n",
    "min(xdict, key=xdict.get)\n",
    "\n"
   ]
  },
  {
   "cell_type": "code",
   "execution_count": 18,
   "id": "37f1425d-ae68-48d4-ac3d-e5c7a140be37",
   "metadata": {},
   "outputs": [
    {
     "ename": "ParserError",
     "evalue": "Error tokenizing data. C error: Expected 2 fields in line 4, saw 5\n",
     "output_type": "error",
     "traceback": [
      "\u001b[0;31m---------------------------------------------------------------------------\u001b[0m",
      "\u001b[0;31mParserError\u001b[0m                               Traceback (most recent call last)",
      "\u001b[0;32m/tmp/ipykernel_614/3065104486.py\u001b[0m in \u001b[0;36m<module>\u001b[0;34m\u001b[0m\n\u001b[0;32m----> 1\u001b[0;31m \u001b[0mff_BI\u001b[0m \u001b[0;34m=\u001b[0m \u001b[0mpd\u001b[0m\u001b[0;34m.\u001b[0m\u001b[0mread_csv\u001b[0m\u001b[0;34m(\u001b[0m\u001b[0;34m\"data/F-F_Research_Data_Factors.CSV\"\u001b[0m\u001b[0;34m,\u001b[0m \u001b[0mparse_dates\u001b[0m\u001b[0;34m=\u001b[0m\u001b[0;32mTrue\u001b[0m\u001b[0;34m,\u001b[0m \u001b[0mindex_col\u001b[0m\u001b[0;34m=\u001b[0m\u001b[0;36m0\u001b[0m\u001b[0;34m)\u001b[0m\u001b[0;34m\u001b[0m\u001b[0;34m\u001b[0m\u001b[0m\n\u001b[0m\u001b[1;32m      2\u001b[0m \u001b[0mff_BI\u001b[0m\u001b[0;34m.\u001b[0m\u001b[0mindex\u001b[0m \u001b[0;34m=\u001b[0m \u001b[0mpd\u001b[0m\u001b[0;34m.\u001b[0m\u001b[0mto_datetime\u001b[0m\u001b[0;34m(\u001b[0m\u001b[0mff_BI\u001b[0m\u001b[0;34m.\u001b[0m\u001b[0mindex\u001b[0m\u001b[0;34m,\u001b[0m \u001b[0mformat\u001b[0m\u001b[0;34m=\u001b[0m\u001b[0;34m\"%Y%m\"\u001b[0m\u001b[0;34m)\u001b[0m\u001b[0;34m.\u001b[0m\u001b[0mto_period\u001b[0m\u001b[0;34m(\u001b[0m\u001b[0;34m'M'\u001b[0m\u001b[0;34m)\u001b[0m\u001b[0;34m\u001b[0m\u001b[0;34m\u001b[0m\u001b[0m\n",
      "\u001b[0;32m~/conda/envs/python/lib/python3.7/site-packages/pandas/util/_decorators.py\u001b[0m in \u001b[0;36mwrapper\u001b[0;34m(*args, **kwargs)\u001b[0m\n\u001b[1;32m    309\u001b[0m                     \u001b[0mstacklevel\u001b[0m\u001b[0;34m=\u001b[0m\u001b[0mstacklevel\u001b[0m\u001b[0;34m,\u001b[0m\u001b[0;34m\u001b[0m\u001b[0;34m\u001b[0m\u001b[0m\n\u001b[1;32m    310\u001b[0m                 )\n\u001b[0;32m--> 311\u001b[0;31m             \u001b[0;32mreturn\u001b[0m \u001b[0mfunc\u001b[0m\u001b[0;34m(\u001b[0m\u001b[0;34m*\u001b[0m\u001b[0margs\u001b[0m\u001b[0;34m,\u001b[0m \u001b[0;34m**\u001b[0m\u001b[0mkwargs\u001b[0m\u001b[0;34m)\u001b[0m\u001b[0;34m\u001b[0m\u001b[0;34m\u001b[0m\u001b[0m\n\u001b[0m\u001b[1;32m    312\u001b[0m \u001b[0;34m\u001b[0m\u001b[0m\n\u001b[1;32m    313\u001b[0m         \u001b[0;32mreturn\u001b[0m \u001b[0mwrapper\u001b[0m\u001b[0;34m\u001b[0m\u001b[0;34m\u001b[0m\u001b[0m\n",
      "\u001b[0;32m~/conda/envs/python/lib/python3.7/site-packages/pandas/io/parsers/readers.py\u001b[0m in \u001b[0;36mread_csv\u001b[0;34m(filepath_or_buffer, sep, delimiter, header, names, index_col, usecols, squeeze, prefix, mangle_dupe_cols, dtype, engine, converters, true_values, false_values, skipinitialspace, skiprows, skipfooter, nrows, na_values, keep_default_na, na_filter, verbose, skip_blank_lines, parse_dates, infer_datetime_format, keep_date_col, date_parser, dayfirst, cache_dates, iterator, chunksize, compression, thousands, decimal, lineterminator, quotechar, quoting, doublequote, escapechar, comment, encoding, encoding_errors, dialect, error_bad_lines, warn_bad_lines, on_bad_lines, delim_whitespace, low_memory, memory_map, float_precision, storage_options)\u001b[0m\n\u001b[1;32m    584\u001b[0m     \u001b[0mkwds\u001b[0m\u001b[0;34m.\u001b[0m\u001b[0mupdate\u001b[0m\u001b[0;34m(\u001b[0m\u001b[0mkwds_defaults\u001b[0m\u001b[0;34m)\u001b[0m\u001b[0;34m\u001b[0m\u001b[0;34m\u001b[0m\u001b[0m\n\u001b[1;32m    585\u001b[0m \u001b[0;34m\u001b[0m\u001b[0m\n\u001b[0;32m--> 586\u001b[0;31m     \u001b[0;32mreturn\u001b[0m \u001b[0m_read\u001b[0m\u001b[0;34m(\u001b[0m\u001b[0mfilepath_or_buffer\u001b[0m\u001b[0;34m,\u001b[0m \u001b[0mkwds\u001b[0m\u001b[0;34m)\u001b[0m\u001b[0;34m\u001b[0m\u001b[0;34m\u001b[0m\u001b[0m\n\u001b[0m\u001b[1;32m    587\u001b[0m \u001b[0;34m\u001b[0m\u001b[0m\n\u001b[1;32m    588\u001b[0m \u001b[0;34m\u001b[0m\u001b[0m\n",
      "\u001b[0;32m~/conda/envs/python/lib/python3.7/site-packages/pandas/io/parsers/readers.py\u001b[0m in \u001b[0;36m_read\u001b[0;34m(filepath_or_buffer, kwds)\u001b[0m\n\u001b[1;32m    486\u001b[0m \u001b[0;34m\u001b[0m\u001b[0m\n\u001b[1;32m    487\u001b[0m     \u001b[0;32mwith\u001b[0m \u001b[0mparser\u001b[0m\u001b[0;34m:\u001b[0m\u001b[0;34m\u001b[0m\u001b[0;34m\u001b[0m\u001b[0m\n\u001b[0;32m--> 488\u001b[0;31m         \u001b[0;32mreturn\u001b[0m \u001b[0mparser\u001b[0m\u001b[0;34m.\u001b[0m\u001b[0mread\u001b[0m\u001b[0;34m(\u001b[0m\u001b[0mnrows\u001b[0m\u001b[0;34m)\u001b[0m\u001b[0;34m\u001b[0m\u001b[0;34m\u001b[0m\u001b[0m\n\u001b[0m\u001b[1;32m    489\u001b[0m \u001b[0;34m\u001b[0m\u001b[0m\n\u001b[1;32m    490\u001b[0m \u001b[0;34m\u001b[0m\u001b[0m\n",
      "\u001b[0;32m~/conda/envs/python/lib/python3.7/site-packages/pandas/io/parsers/readers.py\u001b[0m in \u001b[0;36mread\u001b[0;34m(self, nrows)\u001b[0m\n\u001b[1;32m   1045\u001b[0m     \u001b[0;32mdef\u001b[0m \u001b[0mread\u001b[0m\u001b[0;34m(\u001b[0m\u001b[0mself\u001b[0m\u001b[0;34m,\u001b[0m \u001b[0mnrows\u001b[0m\u001b[0;34m=\u001b[0m\u001b[0;32mNone\u001b[0m\u001b[0;34m)\u001b[0m\u001b[0;34m:\u001b[0m\u001b[0;34m\u001b[0m\u001b[0;34m\u001b[0m\u001b[0m\n\u001b[1;32m   1046\u001b[0m         \u001b[0mnrows\u001b[0m \u001b[0;34m=\u001b[0m \u001b[0mvalidate_integer\u001b[0m\u001b[0;34m(\u001b[0m\u001b[0;34m\"nrows\"\u001b[0m\u001b[0;34m,\u001b[0m \u001b[0mnrows\u001b[0m\u001b[0;34m)\u001b[0m\u001b[0;34m\u001b[0m\u001b[0;34m\u001b[0m\u001b[0m\n\u001b[0;32m-> 1047\u001b[0;31m         \u001b[0mindex\u001b[0m\u001b[0;34m,\u001b[0m \u001b[0mcolumns\u001b[0m\u001b[0;34m,\u001b[0m \u001b[0mcol_dict\u001b[0m \u001b[0;34m=\u001b[0m \u001b[0mself\u001b[0m\u001b[0;34m.\u001b[0m\u001b[0m_engine\u001b[0m\u001b[0;34m.\u001b[0m\u001b[0mread\u001b[0m\u001b[0;34m(\u001b[0m\u001b[0mnrows\u001b[0m\u001b[0;34m)\u001b[0m\u001b[0;34m\u001b[0m\u001b[0;34m\u001b[0m\u001b[0m\n\u001b[0m\u001b[1;32m   1048\u001b[0m \u001b[0;34m\u001b[0m\u001b[0m\n\u001b[1;32m   1049\u001b[0m         \u001b[0;32mif\u001b[0m \u001b[0mindex\u001b[0m \u001b[0;32mis\u001b[0m \u001b[0;32mNone\u001b[0m\u001b[0;34m:\u001b[0m\u001b[0;34m\u001b[0m\u001b[0;34m\u001b[0m\u001b[0m\n",
      "\u001b[0;32m~/conda/envs/python/lib/python3.7/site-packages/pandas/io/parsers/c_parser_wrapper.py\u001b[0m in \u001b[0;36mread\u001b[0;34m(self, nrows)\u001b[0m\n\u001b[1;32m    221\u001b[0m         \u001b[0;32mtry\u001b[0m\u001b[0;34m:\u001b[0m\u001b[0;34m\u001b[0m\u001b[0;34m\u001b[0m\u001b[0m\n\u001b[1;32m    222\u001b[0m             \u001b[0;32mif\u001b[0m \u001b[0mself\u001b[0m\u001b[0;34m.\u001b[0m\u001b[0mlow_memory\u001b[0m\u001b[0;34m:\u001b[0m\u001b[0;34m\u001b[0m\u001b[0;34m\u001b[0m\u001b[0m\n\u001b[0;32m--> 223\u001b[0;31m                 \u001b[0mchunks\u001b[0m \u001b[0;34m=\u001b[0m \u001b[0mself\u001b[0m\u001b[0;34m.\u001b[0m\u001b[0m_reader\u001b[0m\u001b[0;34m.\u001b[0m\u001b[0mread_low_memory\u001b[0m\u001b[0;34m(\u001b[0m\u001b[0mnrows\u001b[0m\u001b[0;34m)\u001b[0m\u001b[0;34m\u001b[0m\u001b[0;34m\u001b[0m\u001b[0m\n\u001b[0m\u001b[1;32m    224\u001b[0m                 \u001b[0;31m# destructive to chunks\u001b[0m\u001b[0;34m\u001b[0m\u001b[0;34m\u001b[0m\u001b[0;34m\u001b[0m\u001b[0m\n\u001b[1;32m    225\u001b[0m                 \u001b[0mdata\u001b[0m \u001b[0;34m=\u001b[0m \u001b[0m_concatenate_chunks\u001b[0m\u001b[0;34m(\u001b[0m\u001b[0mchunks\u001b[0m\u001b[0;34m)\u001b[0m\u001b[0;34m\u001b[0m\u001b[0;34m\u001b[0m\u001b[0m\n",
      "\u001b[0;32m~/conda/envs/python/lib/python3.7/site-packages/pandas/_libs/parsers.pyx\u001b[0m in \u001b[0;36mpandas._libs.parsers.TextReader.read_low_memory\u001b[0;34m()\u001b[0m\n",
      "\u001b[0;32m~/conda/envs/python/lib/python3.7/site-packages/pandas/_libs/parsers.pyx\u001b[0m in \u001b[0;36mpandas._libs.parsers.TextReader._read_rows\u001b[0;34m()\u001b[0m\n",
      "\u001b[0;32m~/conda/envs/python/lib/python3.7/site-packages/pandas/_libs/parsers.pyx\u001b[0m in \u001b[0;36mpandas._libs.parsers.TextReader._tokenize_rows\u001b[0;34m()\u001b[0m\n",
      "\u001b[0;32m~/conda/envs/python/lib/python3.7/site-packages/pandas/_libs/parsers.pyx\u001b[0m in \u001b[0;36mpandas._libs.parsers.raise_parser_error\u001b[0;34m()\u001b[0m\n",
      "\u001b[0;31mParserError\u001b[0m: Error tokenizing data. C error: Expected 2 fields in line 4, saw 5\n"
     ]
    }
   ],
   "source": [
    "ff_BI = pd.read_csv(\"data/F-F_Research_Data_Factors.CSV\", parse_dates=True, index_col=0)\n",
    "ff_BI.index = pd.to_datetime(ff_BI.index, format=\"%Y%m\").to_period('M')"
   ]
  },
  {
   "cell_type": "code",
   "execution_count": 19,
   "id": "a41def2f-806c-4faa-94a7-0bcae3d04fe7",
   "metadata": {},
   "outputs": [
    {
     "data": {
      "text/html": [
       "<div>\n",
       "<style scoped>\n",
       "    .dataframe tbody tr th:only-of-type {\n",
       "        vertical-align: middle;\n",
       "    }\n",
       "\n",
       "    .dataframe tbody tr th {\n",
       "        vertical-align: top;\n",
       "    }\n",
       "\n",
       "    .dataframe thead th {\n",
       "        text-align: right;\n",
       "    }\n",
       "</style>\n",
       "<table border=\"1\" class=\"dataframe\">\n",
       "  <thead>\n",
       "    <tr style=\"text-align: right;\">\n",
       "      <th></th>\n",
       "      <th>Agric</th>\n",
       "      <th>Food</th>\n",
       "      <th>Soda</th>\n",
       "      <th>Beer</th>\n",
       "      <th>Smoke</th>\n",
       "      <th>Toys</th>\n",
       "      <th>Fun</th>\n",
       "      <th>Books</th>\n",
       "      <th>Hshld</th>\n",
       "      <th>Clths</th>\n",
       "      <th>...</th>\n",
       "      <th>Boxes</th>\n",
       "      <th>Trans</th>\n",
       "      <th>Whlsl</th>\n",
       "      <th>Rtail</th>\n",
       "      <th>Meals</th>\n",
       "      <th>Banks</th>\n",
       "      <th>Insur</th>\n",
       "      <th>RlEst</th>\n",
       "      <th>Fin</th>\n",
       "      <th>Other</th>\n",
       "    </tr>\n",
       "  </thead>\n",
       "  <tbody>\n",
       "    <tr>\n",
       "      <th>beta</th>\n",
       "      <td>0.684404</td>\n",
       "      <td>0.558117</td>\n",
       "      <td>0.817167</td>\n",
       "      <td>0.590261</td>\n",
       "      <td>0.590791</td>\n",
       "      <td>0.939820</td>\n",
       "      <td>1.326548</td>\n",
       "      <td>1.025644</td>\n",
       "      <td>0.646211</td>\n",
       "      <td>1.011445</td>\n",
       "      <td>...</td>\n",
       "      <td>1.021802</td>\n",
       "      <td>0.973939</td>\n",
       "      <td>0.863755</td>\n",
       "      <td>0.898433</td>\n",
       "      <td>0.781258</td>\n",
       "      <td>1.200674</td>\n",
       "      <td>1.026859</td>\n",
       "      <td>1.150121</td>\n",
       "      <td>1.413037</td>\n",
       "      <td>1.088396</td>\n",
       "    </tr>\n",
       "    <tr>\n",
       "      <th>value</th>\n",
       "      <td>0.131897</td>\n",
       "      <td>0.156536</td>\n",
       "      <td>0.397642</td>\n",
       "      <td>0.006329</td>\n",
       "      <td>0.266018</td>\n",
       "      <td>0.423761</td>\n",
       "      <td>0.310497</td>\n",
       "      <td>0.435918</td>\n",
       "      <td>0.125855</td>\n",
       "      <td>0.345496</td>\n",
       "      <td>...</td>\n",
       "      <td>0.283365</td>\n",
       "      <td>0.432217</td>\n",
       "      <td>0.286591</td>\n",
       "      <td>0.021793</td>\n",
       "      <td>0.259776</td>\n",
       "      <td>0.839294</td>\n",
       "      <td>0.570370</td>\n",
       "      <td>0.896931</td>\n",
       "      <td>0.239309</td>\n",
       "      <td>0.283131</td>\n",
       "    </tr>\n",
       "    <tr>\n",
       "      <th>size</th>\n",
       "      <td>0.165856</td>\n",
       "      <td>-0.267873</td>\n",
       "      <td>-0.121587</td>\n",
       "      <td>-0.358655</td>\n",
       "      <td>-0.307794</td>\n",
       "      <td>0.329862</td>\n",
       "      <td>0.281732</td>\n",
       "      <td>0.137026</td>\n",
       "      <td>-0.171127</td>\n",
       "      <td>0.057455</td>\n",
       "      <td>...</td>\n",
       "      <td>-0.000577</td>\n",
       "      <td>0.031009</td>\n",
       "      <td>0.265499</td>\n",
       "      <td>-0.041055</td>\n",
       "      <td>-0.094673</td>\n",
       "      <td>-0.188034</td>\n",
       "      <td>-0.251649</td>\n",
       "      <td>0.687456</td>\n",
       "      <td>0.121906</td>\n",
       "      <td>-0.019304</td>\n",
       "    </tr>\n",
       "  </tbody>\n",
       "</table>\n",
       "<p>3 rows × 49 columns</p>\n",
       "</div>"
      ],
      "text/plain": [
       "          Agric      Food      Soda      Beer     Smoke      Toys       Fun  \\\n",
       "beta   0.684404  0.558117  0.817167  0.590261  0.590791  0.939820  1.326548   \n",
       "value  0.131897  0.156536  0.397642  0.006329  0.266018  0.423761  0.310497   \n",
       "size   0.165856 -0.267873 -0.121587 -0.358655 -0.307794  0.329862  0.281732   \n",
       "\n",
       "          Books     Hshld     Clths  ...     Boxes     Trans     Whlsl  \\\n",
       "beta   1.025644  0.646211  1.011445  ...  1.021802  0.973939  0.863755   \n",
       "value  0.435918  0.125855  0.345496  ...  0.283365  0.432217  0.286591   \n",
       "size   0.137026 -0.171127  0.057455  ... -0.000577  0.031009  0.265499   \n",
       "\n",
       "          Rtail     Meals     Banks     Insur     RlEst       Fin     Other  \n",
       "beta   0.898433  0.781258  1.200674  1.026859  1.150121  1.413037  1.088396  \n",
       "value  0.021793  0.259776  0.839294  0.570370  0.896931  0.239309  0.283131  \n",
       "size  -0.041055 -0.094673 -0.188034 -0.251649  0.687456  0.121906 -0.019304  \n",
       "\n",
       "[3 rows x 49 columns]"
      ]
     },
     "execution_count": 19,
     "metadata": {},
     "output_type": "execute_result"
    }
   ],
   "source": [
    "import pandas as pd\n",
    "import numpy as np\n",
    "ind49_excess1 = ind49_rets[\"1991\":\"2018\"] - fff.loc[\"1991\":\"2018\", ['RF']].values\n",
    "mkt_excess1 = fff.loc[\"1991\":\"2018\",['Mkt-RF']]\n",
    "exp_var1 = mkt_excess1.copy()\n",
    "exp_var1[\"Constant\"] = 1\n",
    "exp_var1[\"Value\"] = fff.loc[\"1991\":\"2018\",['HML']]\n",
    "exp_var1[\"Size\"] = fff.loc[\"1991\":\"2018\",['SMB']]\n",
    "results = pd.DataFrame(index = [\"beta\",\"value\",\"size\"], columns =ind49_rets.columns)\n",
    "for index in ind49_excess1:\n",
    "    industry_name=index\n",
    "    lm=sm.OLS(ind49_excess1[industry_name], exp_var1).fit()\n",
    "    results[index]=(lm.params[0], lm.params[2], lm.params[3])\n",
    "    \n",
    "results"
   ]
  },
  {
   "cell_type": "code",
   "execution_count": 20,
   "id": "10d971a0-684b-4adf-95aa-3d95e4d21be5",
   "metadata": {},
   "outputs": [
    {
     "data": {
      "text/plain": [
       "beta     Steel\n",
       "value    Txtls\n",
       "size     FabPr\n",
       "dtype: object"
      ]
     },
     "execution_count": 20,
     "metadata": {},
     "output_type": "execute_result"
    }
   ],
   "source": [
    "results.idxmax(axis=1)"
   ]
  },
  {
   "cell_type": "code",
   "execution_count": 21,
   "id": "f729114a-61a6-4d68-a5b1-6707dc763ff7",
   "metadata": {},
   "outputs": [
    {
     "data": {
      "text/plain": [
       "beta      Gold\n",
       "value    Softw\n",
       "size      Beer\n",
       "dtype: object"
      ]
     },
     "execution_count": 21,
     "metadata": {},
     "output_type": "execute_result"
    }
   ],
   "source": [
    "results.idxmin(axis=1)"
   ]
  },
  {
   "cell_type": "code",
   "execution_count": null,
   "id": "ddb7af2e-9761-4d44-bab1-a5f71a981147",
   "metadata": {},
   "outputs": [],
   "source": []
  }
 ],
 "metadata": {
  "kernelspec": {
   "display_name": "Python",
   "language": "python",
   "name": "conda-env-python-py"
  },
  "language_info": {
   "codemirror_mode": {
    "name": "ipython",
    "version": 3
   },
   "file_extension": ".py",
   "mimetype": "text/x-python",
   "name": "python",
   "nbconvert_exporter": "python",
   "pygments_lexer": "ipython3",
   "version": "3.7.10"
  }
 },
 "nbformat": 4,
 "nbformat_minor": 5
}
